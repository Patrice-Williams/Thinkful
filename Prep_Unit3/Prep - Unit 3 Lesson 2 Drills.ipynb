{
 "cells": [
  {
   "cell_type": "markdown",
   "metadata": {},
   "source": [
    "Exercises in Probability\n",
    "1. P(HTTH) = 1/16, P(HHHH) = 1/16, P(TTHH) = 1/16\n",
    "\n",
    "2. 24/45\n",
    "\n",
    "3. .10*.005 = .0005\n",
    "\n",
    "4.  There could be a selection bias because the sample only represents those who wanted to take the survey and not all who visited the site.\n",
    "\n",
    "Exercises in Bayes' Rule\n",
    "1. .10/.98 * .98/.10 = 99.96%\n",
    "2. .98\n",
    "3. .10\n",
    "4. .02\n",
    "\n",
    "Evaluating data sources\n",
    "1. Issue: its the day before Christimas. Question change... What are popular neighborhoods around Christmas time in Amsterdam\n",
    "2. Issue: its the day after 9/11. Question change... How did patterns of mental health service vary between cities the day after 9/11\n",
    "3. Issue: who was surveyed..age, time of day, neighboorhood, economic status of those surveyed\n",
    "\n",
    "Challenge - Beware of Monty Hall\n",
    "I wouldn't switch my door because either way the chance is 1/2.  I believe that with our without Bayes' rule, the chances remain the same."
   ]
  },
  {
   "cell_type": "code",
   "execution_count": null,
   "metadata": {},
   "outputs": [],
   "source": []
  }
 ],
 "metadata": {
  "kernelspec": {
   "display_name": "Python 3",
   "language": "python",
   "name": "python3"
  },
  "language_info": {
   "codemirror_mode": {
    "name": "ipython",
    "version": 3
   },
   "file_extension": ".py",
   "mimetype": "text/x-python",
   "name": "python",
   "nbconvert_exporter": "python",
   "pygments_lexer": "ipython3",
   "version": "3.6.5"
  }
 },
 "nbformat": 4,
 "nbformat_minor": 2
}

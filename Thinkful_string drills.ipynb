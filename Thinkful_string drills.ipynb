{
 "cells": [
  {
   "cell_type": "code",
   "execution_count": 1,
   "metadata": {},
   "outputs": [],
   "source": [
    "#Hello World\n",
    "def hello(name):\n",
    "\n",
    "    return \"Hello, \" + name"
   ]
  },
  {
   "cell_type": "code",
   "execution_count": 5,
   "metadata": {},
   "outputs": [],
   "source": [
    "#Quotable\n",
    "def quotable(name, quote):\n",
    "        \n",
    "    return '{} said: \"{}\"'.format(name, quote)"
   ]
  },
  {
   "cell_type": "code",
   "execution_count": 6,
   "metadata": {},
   "outputs": [],
   "source": [
    "#Repeater\n",
    "def repeater(string, n):\n",
    "        \n",
    "   return (string * n)"
   ]
  },
  {
   "cell_type": "code",
   "execution_count": 7,
   "metadata": {},
   "outputs": [],
   "source": [
    "#Repeater2\n",
    "def repeater(string, n):\n",
    "    r = (string * n)\n",
    "    return '\"{}\" repeated {} times is: '.format(string, n) + '\"{}\"'.format(r)"
   ]
  },
  {
   "cell_type": "code",
   "execution_count": 8,
   "metadata": {},
   "outputs": [],
   "source": [
    "#jedi_name\n",
    "def greet_jedi(first, last):\n",
    "    j = last[0].upper() + last[1:3] + first[0].upper() + first[1:2] \n",
    "    return 'Greetings, master {}'.format (j)"
   ]
  },
  {
   "cell_type": "code",
   "execution_count": 9,
   "metadata": {},
   "outputs": [],
   "source": [
    "#Areacode Exractor\n",
    "def area_code(text):\n",
    "    s = text\n",
    "    return s[s.find(\"(\")+1:s.find(\")\")]"
   ]
  },
  {
   "cell_type": "code",
   "execution_count": null,
   "metadata": {},
   "outputs": [],
   "source": []
  }
 ],
 "metadata": {
  "kernelspec": {
   "display_name": "Python 3",
   "language": "python",
   "name": "python3"
  },
  "language_info": {
   "codemirror_mode": {
    "name": "ipython",
    "version": 3
   },
   "file_extension": ".py",
   "mimetype": "text/x-python",
   "name": "python",
   "nbconvert_exporter": "python",
   "pygments_lexer": "ipython3",
   "version": "3.6.5"
  }
 },
 "nbformat": 4,
 "nbformat_minor": 2
}
